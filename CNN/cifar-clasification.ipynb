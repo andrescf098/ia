{
 "cells": [
  {
   "cell_type": "code",
   "execution_count": 25,
   "metadata": {},
   "outputs": [],
   "source": [
    "from tensorflow import keras\n",
    "from tensorflow.keras.utils import to_categorical\n",
    "from tensorflow.keras import regularizers\n",
    "from tensorflow.keras.models import Sequential\n",
    "from tensorflow.keras.layers import Conv2D, MaxPooling2D, Flatten, Dense, Dropout, BatchNormalization\n",
    "from tensorflow.keras.datasets import cifar10\n",
    "from tensorflow.keras.preprocessing.image import ImageDataGenerator\n",
    "from tensorflow.keras.callbacks import ModelCheckpoint"
   ]
  },
  {
   "cell_type": "code",
   "execution_count": 3,
   "metadata": {},
   "outputs": [],
   "source": [
    "import numpy as np\n",
    "import matplotlib.pyplot as plt"
   ]
  },
  {
   "cell_type": "code",
   "execution_count": 15,
   "metadata": {},
   "outputs": [],
   "source": [
    "(x_train, y_train), (x_test, y_test) = cifar10.load_data()"
   ]
  },
  {
   "cell_type": "code",
   "execution_count": 16,
   "metadata": {},
   "outputs": [
    {
     "data": {
      "text/plain": [
       "(50000, 32, 32, 3)"
      ]
     },
     "execution_count": 16,
     "metadata": {},
     "output_type": "execute_result"
    }
   ],
   "source": [
    "x_train.shape"
   ]
  },
  {
   "cell_type": "markdown",
   "metadata": {},
   "source": [
    "### Limpieza\n"
   ]
  },
  {
   "cell_type": "code",
   "execution_count": 17,
   "metadata": {},
   "outputs": [],
   "source": [
    "x_train = x_train.astype('float32') / 255\n",
    "x_test = x_test.astype('float32') / 255"
   ]
  },
  {
   "cell_type": "code",
   "execution_count": 18,
   "metadata": {},
   "outputs": [],
   "source": [
    "num_classes = len(np.unique(y_train))\n",
    "y_train = to_categorical(y_train, num_classes)\n",
    "y_test = to_categorical(y_test, num_classes)"
   ]
  },
  {
   "cell_type": "markdown",
   "metadata": {},
   "source": [
    "### Normalizar"
   ]
  },
  {
   "cell_type": "code",
   "execution_count": 19,
   "metadata": {},
   "outputs": [],
   "source": [
    "mean = np.mean(x_train)\n",
    "std = np.std(x_train)"
   ]
  },
  {
   "cell_type": "code",
   "execution_count": 20,
   "metadata": {},
   "outputs": [],
   "source": [
    "x_train = (x_train - mean) / (std + 1e-7)\n",
    "x_test = (x_test - mean) / (std + 1e-7)"
   ]
  },
  {
   "cell_type": "code",
   "execution_count": 21,
   "metadata": {},
   "outputs": [
    {
     "name": "stdout",
     "output_type": "stream",
     "text": [
      "x_train shape: (45000, 32, 32, 3)\n",
      "train: 45000\n",
      "validation: 5000\n",
      "test: 10000\n"
     ]
    }
   ],
   "source": [
    "(x_train, x_valid) = x_train[5000:], x_train[:5000]\n",
    "(y_train, y_valid) = y_train[5000:], y_train[:5000]\n",
    "\n",
    "print('x_train shape:', x_train.shape)\n",
    "print('train:', x_train.shape[0])\n",
    "print('validation:', x_valid.shape[0])\n",
    "print('test:', x_test.shape[0])"
   ]
  },
  {
   "cell_type": "code",
   "execution_count": 22,
   "metadata": {},
   "outputs": [],
   "source": [
    "base_filters = 32\n",
    "w_reg = regularizers.l2(1e-4)"
   ]
  },
  {
   "cell_type": "code",
   "execution_count": 23,
   "metadata": {},
   "outputs": [
    {
     "data": {
      "text/html": [
       "<pre style=\"white-space:pre;overflow-x:auto;line-height:normal;font-family:Menlo,'DejaVu Sans Mono',consolas,'Courier New',monospace\"><span style=\"font-weight: bold\">Model: \"sequential_2\"</span>\n",
       "</pre>\n"
      ],
      "text/plain": [
       "\u001b[1mModel: \"sequential_2\"\u001b[0m\n"
      ]
     },
     "metadata": {},
     "output_type": "display_data"
    },
    {
     "data": {
      "text/html": [
       "<pre style=\"white-space:pre;overflow-x:auto;line-height:normal;font-family:Menlo,'DejaVu Sans Mono',consolas,'Courier New',monospace\">┏━━━━━━━━━━━━━━━━━━━━━━━━━━━━━━━━━┳━━━━━━━━━━━━━━━━━━━━━━━━┳━━━━━━━━━━━━━━━┓\n",
       "┃<span style=\"font-weight: bold\"> Layer (type)                    </span>┃<span style=\"font-weight: bold\"> Output Shape           </span>┃<span style=\"font-weight: bold\">       Param # </span>┃\n",
       "┡━━━━━━━━━━━━━━━━━━━━━━━━━━━━━━━━━╇━━━━━━━━━━━━━━━━━━━━━━━━╇━━━━━━━━━━━━━━━┩\n",
       "│ conv2d_12 (<span style=\"color: #0087ff; text-decoration-color: #0087ff\">Conv2D</span>)              │ (<span style=\"color: #00d7ff; text-decoration-color: #00d7ff\">None</span>, <span style=\"color: #00af00; text-decoration-color: #00af00\">32</span>, <span style=\"color: #00af00; text-decoration-color: #00af00\">32</span>, <span style=\"color: #00af00; text-decoration-color: #00af00\">32</span>)     │           <span style=\"color: #00af00; text-decoration-color: #00af00\">896</span> │\n",
       "├─────────────────────────────────┼────────────────────────┼───────────────┤\n",
       "│ batch_normalization_12          │ (<span style=\"color: #00d7ff; text-decoration-color: #00d7ff\">None</span>, <span style=\"color: #00af00; text-decoration-color: #00af00\">32</span>, <span style=\"color: #00af00; text-decoration-color: #00af00\">32</span>, <span style=\"color: #00af00; text-decoration-color: #00af00\">32</span>)     │           <span style=\"color: #00af00; text-decoration-color: #00af00\">128</span> │\n",
       "│ (<span style=\"color: #0087ff; text-decoration-color: #0087ff\">BatchNormalization</span>)            │                        │               │\n",
       "├─────────────────────────────────┼────────────────────────┼───────────────┤\n",
       "│ conv2d_13 (<span style=\"color: #0087ff; text-decoration-color: #0087ff\">Conv2D</span>)              │ (<span style=\"color: #00d7ff; text-decoration-color: #00d7ff\">None</span>, <span style=\"color: #00af00; text-decoration-color: #00af00\">32</span>, <span style=\"color: #00af00; text-decoration-color: #00af00\">32</span>, <span style=\"color: #00af00; text-decoration-color: #00af00\">32</span>)     │         <span style=\"color: #00af00; text-decoration-color: #00af00\">9,248</span> │\n",
       "├─────────────────────────────────┼────────────────────────┼───────────────┤\n",
       "│ batch_normalization_13          │ (<span style=\"color: #00d7ff; text-decoration-color: #00d7ff\">None</span>, <span style=\"color: #00af00; text-decoration-color: #00af00\">32</span>, <span style=\"color: #00af00; text-decoration-color: #00af00\">32</span>, <span style=\"color: #00af00; text-decoration-color: #00af00\">32</span>)     │           <span style=\"color: #00af00; text-decoration-color: #00af00\">128</span> │\n",
       "│ (<span style=\"color: #0087ff; text-decoration-color: #0087ff\">BatchNormalization</span>)            │                        │               │\n",
       "├─────────────────────────────────┼────────────────────────┼───────────────┤\n",
       "│ max_pooling2d_6 (<span style=\"color: #0087ff; text-decoration-color: #0087ff\">MaxPooling2D</span>)  │ (<span style=\"color: #00d7ff; text-decoration-color: #00d7ff\">None</span>, <span style=\"color: #00af00; text-decoration-color: #00af00\">16</span>, <span style=\"color: #00af00; text-decoration-color: #00af00\">16</span>, <span style=\"color: #00af00; text-decoration-color: #00af00\">32</span>)     │             <span style=\"color: #00af00; text-decoration-color: #00af00\">0</span> │\n",
       "├─────────────────────────────────┼────────────────────────┼───────────────┤\n",
       "│ dropout_8 (<span style=\"color: #0087ff; text-decoration-color: #0087ff\">Dropout</span>)             │ (<span style=\"color: #00d7ff; text-decoration-color: #00d7ff\">None</span>, <span style=\"color: #00af00; text-decoration-color: #00af00\">16</span>, <span style=\"color: #00af00; text-decoration-color: #00af00\">16</span>, <span style=\"color: #00af00; text-decoration-color: #00af00\">32</span>)     │             <span style=\"color: #00af00; text-decoration-color: #00af00\">0</span> │\n",
       "├─────────────────────────────────┼────────────────────────┼───────────────┤\n",
       "│ conv2d_14 (<span style=\"color: #0087ff; text-decoration-color: #0087ff\">Conv2D</span>)              │ (<span style=\"color: #00d7ff; text-decoration-color: #00d7ff\">None</span>, <span style=\"color: #00af00; text-decoration-color: #00af00\">16</span>, <span style=\"color: #00af00; text-decoration-color: #00af00\">16</span>, <span style=\"color: #00af00; text-decoration-color: #00af00\">64</span>)     │        <span style=\"color: #00af00; text-decoration-color: #00af00\">18,496</span> │\n",
       "├─────────────────────────────────┼────────────────────────┼───────────────┤\n",
       "│ batch_normalization_14          │ (<span style=\"color: #00d7ff; text-decoration-color: #00d7ff\">None</span>, <span style=\"color: #00af00; text-decoration-color: #00af00\">16</span>, <span style=\"color: #00af00; text-decoration-color: #00af00\">16</span>, <span style=\"color: #00af00; text-decoration-color: #00af00\">64</span>)     │           <span style=\"color: #00af00; text-decoration-color: #00af00\">256</span> │\n",
       "│ (<span style=\"color: #0087ff; text-decoration-color: #0087ff\">BatchNormalization</span>)            │                        │               │\n",
       "├─────────────────────────────────┼────────────────────────┼───────────────┤\n",
       "│ dropout_9 (<span style=\"color: #0087ff; text-decoration-color: #0087ff\">Dropout</span>)             │ (<span style=\"color: #00d7ff; text-decoration-color: #00d7ff\">None</span>, <span style=\"color: #00af00; text-decoration-color: #00af00\">16</span>, <span style=\"color: #00af00; text-decoration-color: #00af00\">16</span>, <span style=\"color: #00af00; text-decoration-color: #00af00\">64</span>)     │             <span style=\"color: #00af00; text-decoration-color: #00af00\">0</span> │\n",
       "├─────────────────────────────────┼────────────────────────┼───────────────┤\n",
       "│ conv2d_15 (<span style=\"color: #0087ff; text-decoration-color: #0087ff\">Conv2D</span>)              │ (<span style=\"color: #00d7ff; text-decoration-color: #00d7ff\">None</span>, <span style=\"color: #00af00; text-decoration-color: #00af00\">16</span>, <span style=\"color: #00af00; text-decoration-color: #00af00\">16</span>, <span style=\"color: #00af00; text-decoration-color: #00af00\">64</span>)     │        <span style=\"color: #00af00; text-decoration-color: #00af00\">36,928</span> │\n",
       "├─────────────────────────────────┼────────────────────────┼───────────────┤\n",
       "│ batch_normalization_15          │ (<span style=\"color: #00d7ff; text-decoration-color: #00d7ff\">None</span>, <span style=\"color: #00af00; text-decoration-color: #00af00\">16</span>, <span style=\"color: #00af00; text-decoration-color: #00af00\">16</span>, <span style=\"color: #00af00; text-decoration-color: #00af00\">64</span>)     │           <span style=\"color: #00af00; text-decoration-color: #00af00\">256</span> │\n",
       "│ (<span style=\"color: #0087ff; text-decoration-color: #0087ff\">BatchNormalization</span>)            │                        │               │\n",
       "├─────────────────────────────────┼────────────────────────┼───────────────┤\n",
       "│ max_pooling2d_7 (<span style=\"color: #0087ff; text-decoration-color: #0087ff\">MaxPooling2D</span>)  │ (<span style=\"color: #00d7ff; text-decoration-color: #00d7ff\">None</span>, <span style=\"color: #00af00; text-decoration-color: #00af00\">8</span>, <span style=\"color: #00af00; text-decoration-color: #00af00\">8</span>, <span style=\"color: #00af00; text-decoration-color: #00af00\">64</span>)       │             <span style=\"color: #00af00; text-decoration-color: #00af00\">0</span> │\n",
       "├─────────────────────────────────┼────────────────────────┼───────────────┤\n",
       "│ dropout_10 (<span style=\"color: #0087ff; text-decoration-color: #0087ff\">Dropout</span>)            │ (<span style=\"color: #00d7ff; text-decoration-color: #00d7ff\">None</span>, <span style=\"color: #00af00; text-decoration-color: #00af00\">8</span>, <span style=\"color: #00af00; text-decoration-color: #00af00\">8</span>, <span style=\"color: #00af00; text-decoration-color: #00af00\">64</span>)       │             <span style=\"color: #00af00; text-decoration-color: #00af00\">0</span> │\n",
       "├─────────────────────────────────┼────────────────────────┼───────────────┤\n",
       "│ conv2d_16 (<span style=\"color: #0087ff; text-decoration-color: #0087ff\">Conv2D</span>)              │ (<span style=\"color: #00d7ff; text-decoration-color: #00d7ff\">None</span>, <span style=\"color: #00af00; text-decoration-color: #00af00\">8</span>, <span style=\"color: #00af00; text-decoration-color: #00af00\">8</span>, <span style=\"color: #00af00; text-decoration-color: #00af00\">128</span>)      │        <span style=\"color: #00af00; text-decoration-color: #00af00\">73,856</span> │\n",
       "├─────────────────────────────────┼────────────────────────┼───────────────┤\n",
       "│ batch_normalization_16          │ (<span style=\"color: #00d7ff; text-decoration-color: #00d7ff\">None</span>, <span style=\"color: #00af00; text-decoration-color: #00af00\">8</span>, <span style=\"color: #00af00; text-decoration-color: #00af00\">8</span>, <span style=\"color: #00af00; text-decoration-color: #00af00\">128</span>)      │           <span style=\"color: #00af00; text-decoration-color: #00af00\">512</span> │\n",
       "│ (<span style=\"color: #0087ff; text-decoration-color: #0087ff\">BatchNormalization</span>)            │                        │               │\n",
       "├─────────────────────────────────┼────────────────────────┼───────────────┤\n",
       "│ conv2d_17 (<span style=\"color: #0087ff; text-decoration-color: #0087ff\">Conv2D</span>)              │ (<span style=\"color: #00d7ff; text-decoration-color: #00d7ff\">None</span>, <span style=\"color: #00af00; text-decoration-color: #00af00\">8</span>, <span style=\"color: #00af00; text-decoration-color: #00af00\">8</span>, <span style=\"color: #00af00; text-decoration-color: #00af00\">128</span>)      │       <span style=\"color: #00af00; text-decoration-color: #00af00\">147,584</span> │\n",
       "├─────────────────────────────────┼────────────────────────┼───────────────┤\n",
       "│ batch_normalization_17          │ (<span style=\"color: #00d7ff; text-decoration-color: #00d7ff\">None</span>, <span style=\"color: #00af00; text-decoration-color: #00af00\">8</span>, <span style=\"color: #00af00; text-decoration-color: #00af00\">8</span>, <span style=\"color: #00af00; text-decoration-color: #00af00\">128</span>)      │           <span style=\"color: #00af00; text-decoration-color: #00af00\">512</span> │\n",
       "│ (<span style=\"color: #0087ff; text-decoration-color: #0087ff\">BatchNormalization</span>)            │                        │               │\n",
       "├─────────────────────────────────┼────────────────────────┼───────────────┤\n",
       "│ max_pooling2d_8 (<span style=\"color: #0087ff; text-decoration-color: #0087ff\">MaxPooling2D</span>)  │ (<span style=\"color: #00d7ff; text-decoration-color: #00d7ff\">None</span>, <span style=\"color: #00af00; text-decoration-color: #00af00\">4</span>, <span style=\"color: #00af00; text-decoration-color: #00af00\">4</span>, <span style=\"color: #00af00; text-decoration-color: #00af00\">128</span>)      │             <span style=\"color: #00af00; text-decoration-color: #00af00\">0</span> │\n",
       "├─────────────────────────────────┼────────────────────────┼───────────────┤\n",
       "│ dropout_11 (<span style=\"color: #0087ff; text-decoration-color: #0087ff\">Dropout</span>)            │ (<span style=\"color: #00d7ff; text-decoration-color: #00d7ff\">None</span>, <span style=\"color: #00af00; text-decoration-color: #00af00\">4</span>, <span style=\"color: #00af00; text-decoration-color: #00af00\">4</span>, <span style=\"color: #00af00; text-decoration-color: #00af00\">128</span>)      │             <span style=\"color: #00af00; text-decoration-color: #00af00\">0</span> │\n",
       "├─────────────────────────────────┼────────────────────────┼───────────────┤\n",
       "│ flatten_2 (<span style=\"color: #0087ff; text-decoration-color: #0087ff\">Flatten</span>)             │ (<span style=\"color: #00d7ff; text-decoration-color: #00d7ff\">None</span>, <span style=\"color: #00af00; text-decoration-color: #00af00\">2048</span>)           │             <span style=\"color: #00af00; text-decoration-color: #00af00\">0</span> │\n",
       "├─────────────────────────────────┼────────────────────────┼───────────────┤\n",
       "│ dense (<span style=\"color: #0087ff; text-decoration-color: #0087ff\">Dense</span>)                   │ (<span style=\"color: #00d7ff; text-decoration-color: #00d7ff\">None</span>, <span style=\"color: #00af00; text-decoration-color: #00af00\">10</span>)             │        <span style=\"color: #00af00; text-decoration-color: #00af00\">20,490</span> │\n",
       "└─────────────────────────────────┴────────────────────────┴───────────────┘\n",
       "</pre>\n"
      ],
      "text/plain": [
       "┏━━━━━━━━━━━━━━━━━━━━━━━━━━━━━━━━━┳━━━━━━━━━━━━━━━━━━━━━━━━┳━━━━━━━━━━━━━━━┓\n",
       "┃\u001b[1m \u001b[0m\u001b[1mLayer (type)                   \u001b[0m\u001b[1m \u001b[0m┃\u001b[1m \u001b[0m\u001b[1mOutput Shape          \u001b[0m\u001b[1m \u001b[0m┃\u001b[1m \u001b[0m\u001b[1m      Param #\u001b[0m\u001b[1m \u001b[0m┃\n",
       "┡━━━━━━━━━━━━━━━━━━━━━━━━━━━━━━━━━╇━━━━━━━━━━━━━━━━━━━━━━━━╇━━━━━━━━━━━━━━━┩\n",
       "│ conv2d_12 (\u001b[38;5;33mConv2D\u001b[0m)              │ (\u001b[38;5;45mNone\u001b[0m, \u001b[38;5;34m32\u001b[0m, \u001b[38;5;34m32\u001b[0m, \u001b[38;5;34m32\u001b[0m)     │           \u001b[38;5;34m896\u001b[0m │\n",
       "├─────────────────────────────────┼────────────────────────┼───────────────┤\n",
       "│ batch_normalization_12          │ (\u001b[38;5;45mNone\u001b[0m, \u001b[38;5;34m32\u001b[0m, \u001b[38;5;34m32\u001b[0m, \u001b[38;5;34m32\u001b[0m)     │           \u001b[38;5;34m128\u001b[0m │\n",
       "│ (\u001b[38;5;33mBatchNormalization\u001b[0m)            │                        │               │\n",
       "├─────────────────────────────────┼────────────────────────┼───────────────┤\n",
       "│ conv2d_13 (\u001b[38;5;33mConv2D\u001b[0m)              │ (\u001b[38;5;45mNone\u001b[0m, \u001b[38;5;34m32\u001b[0m, \u001b[38;5;34m32\u001b[0m, \u001b[38;5;34m32\u001b[0m)     │         \u001b[38;5;34m9,248\u001b[0m │\n",
       "├─────────────────────────────────┼────────────────────────┼───────────────┤\n",
       "│ batch_normalization_13          │ (\u001b[38;5;45mNone\u001b[0m, \u001b[38;5;34m32\u001b[0m, \u001b[38;5;34m32\u001b[0m, \u001b[38;5;34m32\u001b[0m)     │           \u001b[38;5;34m128\u001b[0m │\n",
       "│ (\u001b[38;5;33mBatchNormalization\u001b[0m)            │                        │               │\n",
       "├─────────────────────────────────┼────────────────────────┼───────────────┤\n",
       "│ max_pooling2d_6 (\u001b[38;5;33mMaxPooling2D\u001b[0m)  │ (\u001b[38;5;45mNone\u001b[0m, \u001b[38;5;34m16\u001b[0m, \u001b[38;5;34m16\u001b[0m, \u001b[38;5;34m32\u001b[0m)     │             \u001b[38;5;34m0\u001b[0m │\n",
       "├─────────────────────────────────┼────────────────────────┼───────────────┤\n",
       "│ dropout_8 (\u001b[38;5;33mDropout\u001b[0m)             │ (\u001b[38;5;45mNone\u001b[0m, \u001b[38;5;34m16\u001b[0m, \u001b[38;5;34m16\u001b[0m, \u001b[38;5;34m32\u001b[0m)     │             \u001b[38;5;34m0\u001b[0m │\n",
       "├─────────────────────────────────┼────────────────────────┼───────────────┤\n",
       "│ conv2d_14 (\u001b[38;5;33mConv2D\u001b[0m)              │ (\u001b[38;5;45mNone\u001b[0m, \u001b[38;5;34m16\u001b[0m, \u001b[38;5;34m16\u001b[0m, \u001b[38;5;34m64\u001b[0m)     │        \u001b[38;5;34m18,496\u001b[0m │\n",
       "├─────────────────────────────────┼────────────────────────┼───────────────┤\n",
       "│ batch_normalization_14          │ (\u001b[38;5;45mNone\u001b[0m, \u001b[38;5;34m16\u001b[0m, \u001b[38;5;34m16\u001b[0m, \u001b[38;5;34m64\u001b[0m)     │           \u001b[38;5;34m256\u001b[0m │\n",
       "│ (\u001b[38;5;33mBatchNormalization\u001b[0m)            │                        │               │\n",
       "├─────────────────────────────────┼────────────────────────┼───────────────┤\n",
       "│ dropout_9 (\u001b[38;5;33mDropout\u001b[0m)             │ (\u001b[38;5;45mNone\u001b[0m, \u001b[38;5;34m16\u001b[0m, \u001b[38;5;34m16\u001b[0m, \u001b[38;5;34m64\u001b[0m)     │             \u001b[38;5;34m0\u001b[0m │\n",
       "├─────────────────────────────────┼────────────────────────┼───────────────┤\n",
       "│ conv2d_15 (\u001b[38;5;33mConv2D\u001b[0m)              │ (\u001b[38;5;45mNone\u001b[0m, \u001b[38;5;34m16\u001b[0m, \u001b[38;5;34m16\u001b[0m, \u001b[38;5;34m64\u001b[0m)     │        \u001b[38;5;34m36,928\u001b[0m │\n",
       "├─────────────────────────────────┼────────────────────────┼───────────────┤\n",
       "│ batch_normalization_15          │ (\u001b[38;5;45mNone\u001b[0m, \u001b[38;5;34m16\u001b[0m, \u001b[38;5;34m16\u001b[0m, \u001b[38;5;34m64\u001b[0m)     │           \u001b[38;5;34m256\u001b[0m │\n",
       "│ (\u001b[38;5;33mBatchNormalization\u001b[0m)            │                        │               │\n",
       "├─────────────────────────────────┼────────────────────────┼───────────────┤\n",
       "│ max_pooling2d_7 (\u001b[38;5;33mMaxPooling2D\u001b[0m)  │ (\u001b[38;5;45mNone\u001b[0m, \u001b[38;5;34m8\u001b[0m, \u001b[38;5;34m8\u001b[0m, \u001b[38;5;34m64\u001b[0m)       │             \u001b[38;5;34m0\u001b[0m │\n",
       "├─────────────────────────────────┼────────────────────────┼───────────────┤\n",
       "│ dropout_10 (\u001b[38;5;33mDropout\u001b[0m)            │ (\u001b[38;5;45mNone\u001b[0m, \u001b[38;5;34m8\u001b[0m, \u001b[38;5;34m8\u001b[0m, \u001b[38;5;34m64\u001b[0m)       │             \u001b[38;5;34m0\u001b[0m │\n",
       "├─────────────────────────────────┼────────────────────────┼───────────────┤\n",
       "│ conv2d_16 (\u001b[38;5;33mConv2D\u001b[0m)              │ (\u001b[38;5;45mNone\u001b[0m, \u001b[38;5;34m8\u001b[0m, \u001b[38;5;34m8\u001b[0m, \u001b[38;5;34m128\u001b[0m)      │        \u001b[38;5;34m73,856\u001b[0m │\n",
       "├─────────────────────────────────┼────────────────────────┼───────────────┤\n",
       "│ batch_normalization_16          │ (\u001b[38;5;45mNone\u001b[0m, \u001b[38;5;34m8\u001b[0m, \u001b[38;5;34m8\u001b[0m, \u001b[38;5;34m128\u001b[0m)      │           \u001b[38;5;34m512\u001b[0m │\n",
       "│ (\u001b[38;5;33mBatchNormalization\u001b[0m)            │                        │               │\n",
       "├─────────────────────────────────┼────────────────────────┼───────────────┤\n",
       "│ conv2d_17 (\u001b[38;5;33mConv2D\u001b[0m)              │ (\u001b[38;5;45mNone\u001b[0m, \u001b[38;5;34m8\u001b[0m, \u001b[38;5;34m8\u001b[0m, \u001b[38;5;34m128\u001b[0m)      │       \u001b[38;5;34m147,584\u001b[0m │\n",
       "├─────────────────────────────────┼────────────────────────┼───────────────┤\n",
       "│ batch_normalization_17          │ (\u001b[38;5;45mNone\u001b[0m, \u001b[38;5;34m8\u001b[0m, \u001b[38;5;34m8\u001b[0m, \u001b[38;5;34m128\u001b[0m)      │           \u001b[38;5;34m512\u001b[0m │\n",
       "│ (\u001b[38;5;33mBatchNormalization\u001b[0m)            │                        │               │\n",
       "├─────────────────────────────────┼────────────────────────┼───────────────┤\n",
       "│ max_pooling2d_8 (\u001b[38;5;33mMaxPooling2D\u001b[0m)  │ (\u001b[38;5;45mNone\u001b[0m, \u001b[38;5;34m4\u001b[0m, \u001b[38;5;34m4\u001b[0m, \u001b[38;5;34m128\u001b[0m)      │             \u001b[38;5;34m0\u001b[0m │\n",
       "├─────────────────────────────────┼────────────────────────┼───────────────┤\n",
       "│ dropout_11 (\u001b[38;5;33mDropout\u001b[0m)            │ (\u001b[38;5;45mNone\u001b[0m, \u001b[38;5;34m4\u001b[0m, \u001b[38;5;34m4\u001b[0m, \u001b[38;5;34m128\u001b[0m)      │             \u001b[38;5;34m0\u001b[0m │\n",
       "├─────────────────────────────────┼────────────────────────┼───────────────┤\n",
       "│ flatten_2 (\u001b[38;5;33mFlatten\u001b[0m)             │ (\u001b[38;5;45mNone\u001b[0m, \u001b[38;5;34m2048\u001b[0m)           │             \u001b[38;5;34m0\u001b[0m │\n",
       "├─────────────────────────────────┼────────────────────────┼───────────────┤\n",
       "│ dense (\u001b[38;5;33mDense\u001b[0m)                   │ (\u001b[38;5;45mNone\u001b[0m, \u001b[38;5;34m10\u001b[0m)             │        \u001b[38;5;34m20,490\u001b[0m │\n",
       "└─────────────────────────────────┴────────────────────────┴───────────────┘\n"
      ]
     },
     "metadata": {},
     "output_type": "display_data"
    },
    {
     "data": {
      "text/html": [
       "<pre style=\"white-space:pre;overflow-x:auto;line-height:normal;font-family:Menlo,'DejaVu Sans Mono',consolas,'Courier New',monospace\"><span style=\"font-weight: bold\"> Total params: </span><span style=\"color: #00af00; text-decoration-color: #00af00\">309,290</span> (1.18 MB)\n",
       "</pre>\n"
      ],
      "text/plain": [
       "\u001b[1m Total params: \u001b[0m\u001b[38;5;34m309,290\u001b[0m (1.18 MB)\n"
      ]
     },
     "metadata": {},
     "output_type": "display_data"
    },
    {
     "data": {
      "text/html": [
       "<pre style=\"white-space:pre;overflow-x:auto;line-height:normal;font-family:Menlo,'DejaVu Sans Mono',consolas,'Courier New',monospace\"><span style=\"font-weight: bold\"> Trainable params: </span><span style=\"color: #00af00; text-decoration-color: #00af00\">308,394</span> (1.18 MB)\n",
       "</pre>\n"
      ],
      "text/plain": [
       "\u001b[1m Trainable params: \u001b[0m\u001b[38;5;34m308,394\u001b[0m (1.18 MB)\n"
      ]
     },
     "metadata": {},
     "output_type": "display_data"
    },
    {
     "data": {
      "text/html": [
       "<pre style=\"white-space:pre;overflow-x:auto;line-height:normal;font-family:Menlo,'DejaVu Sans Mono',consolas,'Courier New',monospace\"><span style=\"font-weight: bold\"> Non-trainable params: </span><span style=\"color: #00af00; text-decoration-color: #00af00\">896</span> (3.50 KB)\n",
       "</pre>\n"
      ],
      "text/plain": [
       "\u001b[1m Non-trainable params: \u001b[0m\u001b[38;5;34m896\u001b[0m (3.50 KB)\n"
      ]
     },
     "metadata": {},
     "output_type": "display_data"
    }
   ],
   "source": [
    "model = Sequential()\n",
    "# first layer\n",
    "model.add(Conv2D(base_filters,(3,3), padding='same', kernel_regularizer=w_reg, activation='relu', input_shape=x_train.shape[1:]))\n",
    "model.add(BatchNormalization())\n",
    "# second layer\n",
    "model.add(Conv2D(base_filters, (3,3), padding='same', kernel_regularizer=w_reg, activation='relu'))\n",
    "model.add(BatchNormalization())\n",
    "model.add(MaxPooling2D(pool_size=(2,2)))\n",
    "model.add(Dropout(0.2))\n",
    "# third layer\n",
    "model.add(Conv2D(base_filters*2, (3,3), padding='same', kernel_regularizer=w_reg, activation='relu'))\n",
    "model.add(BatchNormalization())\n",
    "model.add(Dropout(0.3))\n",
    "# fourth layer\n",
    "model.add(Conv2D(base_filters*2, (3,3), padding='same', kernel_regularizer=w_reg, activation='relu'))\n",
    "model.add(BatchNormalization())\n",
    "model.add(MaxPooling2D(pool_size=(2,2)))\n",
    "model.add(Dropout(0.3))\n",
    "# five layer\n",
    "model.add(Conv2D(base_filters*4, (3,3), padding='same', kernel_regularizer=w_reg, activation='relu'))\n",
    "model.add(BatchNormalization())\n",
    "# six layer\n",
    "model.add(Conv2D(base_filters*4, (3,3), padding='same', kernel_regularizer=w_reg, activation='relu'))\n",
    "model.add(BatchNormalization())\n",
    "model.add(MaxPooling2D(pool_size=(2,2)))\n",
    "model.add(Dropout(0.4))\n",
    "# flatten - classifier\n",
    "model.add(Flatten())\n",
    "model.add(Dense(num_classes, activation='softmax'))\n",
    "\n",
    "model.summary()"
   ]
  },
  {
   "cell_type": "code",
   "execution_count": 26,
   "metadata": {},
   "outputs": [],
   "source": [
    "datagen = ImageDataGenerator(\n",
    "    rotation_range=15, \n",
    "    width_shift_range=0.1, \n",
    "    height_shift_range=0.1, \n",
    "    horizontal_flip=True,\n",
    "    vertical_flip=False\n",
    "    )"
   ]
  },
  {
   "cell_type": "code",
   "execution_count": 33,
   "metadata": {},
   "outputs": [],
   "source": [
    "checkpoint = ModelCheckpoint('model.keras', verbose=1, save_best_only=True, monitor='val_accuracy')"
   ]
  },
  {
   "cell_type": "code",
   "execution_count": 28,
   "metadata": {},
   "outputs": [],
   "source": [
    "model.compile(loss='categorical_crossentropy', optimizer='adam', metrics=['accuracy'])"
   ]
  },
  {
   "cell_type": "code",
   "execution_count": null,
   "metadata": {},
   "outputs": [],
   "source": [
    "#hist = model.fit(x_train, y_train, batch_size=32, epochs=100, validation_data=(x_valid, y_valid), verbose=2, shuffle=True)"
   ]
  },
  {
   "cell_type": "code",
   "execution_count": 35,
   "metadata": {},
   "outputs": [
    {
     "name": "stdout",
     "output_type": "stream",
     "text": [
      "Epoch 1/100\n"
     ]
    },
    {
     "name": "stderr",
     "output_type": "stream",
     "text": [
      "e:\\Programacion\\IA\\CNN\\tf_gpu_env\\Lib\\site-packages\\keras\\src\\trainers\\data_adapters\\py_dataset_adapter.py:121: UserWarning: Your `PyDataset` class should call `super().__init__(**kwargs)` in its constructor. `**kwargs` can include `workers`, `use_multiprocessing`, `max_queue_size`. Do not pass these arguments to `fit()`, as they will be ignored.\n",
      "  self._warn_if_super_not_called()\n"
     ]
    },
    {
     "name": "stdout",
     "output_type": "stream",
     "text": [
      "\n",
      "Epoch 1: val_accuracy improved from -inf to 0.32160, saving model to model.keras\n",
      "351/351 - 28s - 80ms/step - accuracy: 0.3009 - loss: 2.5745 - val_accuracy: 0.3216 - val_loss: 2.0391\n",
      "Epoch 2/100\n",
      "\n",
      "Epoch 2: val_accuracy improved from 0.32160 to 0.45640, saving model to model.keras\n",
      "351/351 - 23s - 64ms/step - accuracy: 0.3864 - loss: 1.9691 - val_accuracy: 0.4564 - val_loss: 1.6618\n",
      "Epoch 3/100\n",
      "\n",
      "Epoch 3: val_accuracy improved from 0.45640 to 0.48540, saving model to model.keras\n",
      "351/351 - 23s - 64ms/step - accuracy: 0.4313 - loss: 1.8157 - val_accuracy: 0.4854 - val_loss: 1.6069\n",
      "Epoch 4/100\n",
      "\n",
      "Epoch 4: val_accuracy improved from 0.48540 to 0.52580, saving model to model.keras\n",
      "351/351 - 23s - 65ms/step - accuracy: 0.4609 - loss: 1.6539 - val_accuracy: 0.5258 - val_loss: 1.5383\n",
      "Epoch 5/100\n"
     ]
    },
    {
     "name": "stderr",
     "output_type": "stream",
     "text": [
      "C:\\Users\\andre\\AppData\\Local\\Programs\\Python\\Python312\\Lib\\contextlib.py:158: UserWarning: Your input ran out of data; interrupting training. Make sure that your dataset or generator can generate at least `steps_per_epoch * epochs` batches. You may need to use the `.repeat()` function when building your dataset.\n",
      "  self.gen.throw(value)\n"
     ]
    },
    {
     "name": "stdout",
     "output_type": "stream",
     "text": [
      "\n",
      "Epoch 5: val_accuracy improved from 0.52580 to 0.53900, saving model to model.keras\n",
      "351/351 - 2s - 6ms/step - accuracy: 0.4479 - loss: 1.8234 - val_accuracy: 0.5390 - val_loss: 1.4447\n",
      "Epoch 6/100\n",
      "\n",
      "Epoch 6: val_accuracy improved from 0.53900 to 0.57040, saving model to model.keras\n",
      "351/351 - 23s - 64ms/step - accuracy: 0.5040 - loss: 1.5220 - val_accuracy: 0.5704 - val_loss: 1.3218\n",
      "Epoch 7/100\n",
      "\n",
      "Epoch 7: val_accuracy improved from 0.57040 to 0.58340, saving model to model.keras\n",
      "351/351 - 23s - 65ms/step - accuracy: 0.5400 - loss: 1.3996 - val_accuracy: 0.5834 - val_loss: 1.3098\n",
      "Epoch 8/100\n",
      "\n",
      "Epoch 8: val_accuracy improved from 0.58340 to 0.60040, saving model to model.keras\n",
      "351/351 - 23s - 65ms/step - accuracy: 0.5608 - loss: 1.3394 - val_accuracy: 0.6004 - val_loss: 1.2512\n",
      "Epoch 9/100\n",
      "\n",
      "Epoch 9: val_accuracy did not improve from 0.60040\n",
      "351/351 - 23s - 64ms/step - accuracy: 0.5802 - loss: 1.2715 - val_accuracy: 0.5878 - val_loss: 1.3393\n",
      "Epoch 10/100\n",
      "\n",
      "Epoch 10: val_accuracy did not improve from 0.60040\n",
      "351/351 - 2s - 5ms/step - accuracy: 0.5833 - loss: 1.3023 - val_accuracy: 0.5948 - val_loss: 1.3022\n",
      "Epoch 11/100\n",
      "\n",
      "Epoch 11: val_accuracy improved from 0.60040 to 0.65260, saving model to model.keras\n",
      "351/351 - 23s - 64ms/step - accuracy: 0.5995 - loss: 1.2005 - val_accuracy: 0.6526 - val_loss: 1.0925\n",
      "Epoch 12/100\n",
      "\n",
      "Epoch 12: val_accuracy improved from 0.65260 to 0.68420, saving model to model.keras\n",
      "351/351 - 23s - 64ms/step - accuracy: 0.6174 - loss: 1.1602 - val_accuracy: 0.6842 - val_loss: 1.0384\n",
      "Epoch 13/100\n",
      "\n",
      "Epoch 13: val_accuracy did not improve from 0.68420\n",
      "351/351 - 24s - 68ms/step - accuracy: 0.6247 - loss: 1.1448 - val_accuracy: 0.6532 - val_loss: 1.1130\n",
      "Epoch 14/100\n",
      "\n",
      "Epoch 14: val_accuracy did not improve from 0.68420\n",
      "351/351 - 25s - 70ms/step - accuracy: 0.6259 - loss: 1.1324 - val_accuracy: 0.6650 - val_loss: 1.0506\n",
      "Epoch 15/100\n",
      "\n",
      "Epoch 15: val_accuracy did not improve from 0.68420\n",
      "351/351 - 2s - 6ms/step - accuracy: 0.6979 - loss: 0.9064 - val_accuracy: 0.6736 - val_loss: 1.0236\n",
      "Epoch 16/100\n",
      "\n",
      "Epoch 16: val_accuracy improved from 0.68420 to 0.69060, saving model to model.keras\n",
      "351/351 - 24s - 67ms/step - accuracy: 0.6475 - loss: 1.0724 - val_accuracy: 0.6906 - val_loss: 1.0048\n",
      "Epoch 17/100\n",
      "\n",
      "Epoch 17: val_accuracy improved from 0.69060 to 0.69260, saving model to model.keras\n",
      "351/351 - 23s - 66ms/step - accuracy: 0.6632 - loss: 1.0332 - val_accuracy: 0.6926 - val_loss: 0.9784\n",
      "Epoch 18/100\n",
      "\n",
      "Epoch 18: val_accuracy improved from 0.69260 to 0.69620, saving model to model.keras\n",
      "351/351 - 22s - 63ms/step - accuracy: 0.6628 - loss: 1.0391 - val_accuracy: 0.6962 - val_loss: 0.9926\n",
      "Epoch 19/100\n",
      "\n",
      "Epoch 19: val_accuracy did not improve from 0.69620\n",
      "351/351 - 22s - 63ms/step - accuracy: 0.6764 - loss: 0.9992 - val_accuracy: 0.6716 - val_loss: 1.1035\n",
      "Epoch 20/100\n",
      "\n",
      "Epoch 20: val_accuracy did not improve from 0.69620\n",
      "351/351 - 2s - 5ms/step - accuracy: 0.7708 - loss: 0.7404 - val_accuracy: 0.6714 - val_loss: 1.1188\n",
      "Epoch 21/100\n",
      "\n",
      "Epoch 21: val_accuracy improved from 0.69620 to 0.70980, saving model to model.keras\n",
      "351/351 - 22s - 63ms/step - accuracy: 0.6788 - loss: 0.9951 - val_accuracy: 0.7098 - val_loss: 0.9408\n",
      "Epoch 22/100\n",
      "\n",
      "Epoch 22: val_accuracy improved from 0.70980 to 0.73680, saving model to model.keras\n",
      "351/351 - 22s - 63ms/step - accuracy: 0.6894 - loss: 0.9823 - val_accuracy: 0.7368 - val_loss: 0.8869\n",
      "Epoch 23/100\n",
      "\n",
      "Epoch 23: val_accuracy did not improve from 0.73680\n",
      "351/351 - 22s - 63ms/step - accuracy: 0.6959 - loss: 0.9677 - val_accuracy: 0.7340 - val_loss: 0.8747\n",
      "Epoch 24/100\n",
      "\n",
      "Epoch 24: val_accuracy improved from 0.73680 to 0.74340, saving model to model.keras\n",
      "351/351 - 22s - 63ms/step - accuracy: 0.7023 - loss: 0.9510 - val_accuracy: 0.7434 - val_loss: 0.8321\n",
      "Epoch 25/100\n",
      "\n",
      "Epoch 25: val_accuracy did not improve from 0.74340\n",
      "351/351 - 2s - 5ms/step - accuracy: 0.6771 - loss: 1.0410 - val_accuracy: 0.7348 - val_loss: 0.8633\n",
      "Epoch 26/100\n",
      "\n",
      "Epoch 26: val_accuracy improved from 0.74340 to 0.74680, saving model to model.keras\n",
      "351/351 - 22s - 62ms/step - accuracy: 0.7042 - loss: 0.9394 - val_accuracy: 0.7468 - val_loss: 0.8603\n",
      "Epoch 27/100\n",
      "\n",
      "Epoch 27: val_accuracy improved from 0.74680 to 0.75320, saving model to model.keras\n",
      "351/351 - 22s - 64ms/step - accuracy: 0.7102 - loss: 0.9388 - val_accuracy: 0.7532 - val_loss: 0.8612\n",
      "Epoch 28/100\n",
      "\n",
      "Epoch 28: val_accuracy improved from 0.75320 to 0.75760, saving model to model.keras\n",
      "351/351 - 22s - 62ms/step - accuracy: 0.7147 - loss: 0.9241 - val_accuracy: 0.7576 - val_loss: 0.8149\n",
      "Epoch 29/100\n",
      "\n",
      "Epoch 29: val_accuracy improved from 0.75760 to 0.77180, saving model to model.keras\n",
      "351/351 - 22s - 62ms/step - accuracy: 0.7133 - loss: 0.9213 - val_accuracy: 0.7718 - val_loss: 0.7824\n",
      "Epoch 30/100\n",
      "\n",
      "Epoch 30: val_accuracy did not improve from 0.77180\n",
      "351/351 - 2s - 5ms/step - accuracy: 0.7917 - loss: 0.7110 - val_accuracy: 0.7686 - val_loss: 0.7968\n",
      "Epoch 31/100\n",
      "\n",
      "Epoch 31: val_accuracy did not improve from 0.77180\n",
      "351/351 - 22s - 62ms/step - accuracy: 0.7240 - loss: 0.9051 - val_accuracy: 0.7664 - val_loss: 0.8150\n",
      "Epoch 32/100\n",
      "\n",
      "Epoch 32: val_accuracy did not improve from 0.77180\n",
      "351/351 - 22s - 62ms/step - accuracy: 0.7330 - loss: 0.8846 - val_accuracy: 0.7414 - val_loss: 0.8755\n",
      "Epoch 33/100\n",
      "\n",
      "Epoch 33: val_accuracy improved from 0.77180 to 0.77460, saving model to model.keras\n",
      "351/351 - 22s - 62ms/step - accuracy: 0.7300 - loss: 0.8992 - val_accuracy: 0.7746 - val_loss: 0.7770\n",
      "Epoch 34/100\n",
      "\n",
      "Epoch 34: val_accuracy did not improve from 0.77460\n",
      "351/351 - 22s - 62ms/step - accuracy: 0.7322 - loss: 0.8887 - val_accuracy: 0.7610 - val_loss: 0.8371\n",
      "Epoch 35/100\n",
      "\n",
      "Epoch 35: val_accuracy did not improve from 0.77460\n",
      "351/351 - 2s - 5ms/step - accuracy: 0.8125 - loss: 0.8332 - val_accuracy: 0.7696 - val_loss: 0.8028\n",
      "Epoch 36/100\n",
      "\n",
      "Epoch 36: val_accuracy improved from 0.77460 to 0.77960, saving model to model.keras\n",
      "351/351 - 22s - 62ms/step - accuracy: 0.7396 - loss: 0.8771 - val_accuracy: 0.7796 - val_loss: 0.7859\n",
      "Epoch 37/100\n",
      "\n",
      "Epoch 37: val_accuracy improved from 0.77960 to 0.78540, saving model to model.keras\n",
      "351/351 - 22s - 64ms/step - accuracy: 0.7434 - loss: 0.8714 - val_accuracy: 0.7854 - val_loss: 0.7680\n",
      "Epoch 38/100\n",
      "\n",
      "Epoch 38: val_accuracy improved from 0.78540 to 0.78860, saving model to model.keras\n",
      "351/351 - 22s - 63ms/step - accuracy: 0.7377 - loss: 0.8818 - val_accuracy: 0.7886 - val_loss: 0.7611\n",
      "Epoch 39/100\n",
      "\n",
      "Epoch 39: val_accuracy improved from 0.78860 to 0.78980, saving model to model.keras\n",
      "351/351 - 22s - 63ms/step - accuracy: 0.7394 - loss: 0.8821 - val_accuracy: 0.7898 - val_loss: 0.7571\n",
      "Epoch 40/100\n",
      "\n",
      "Epoch 40: val_accuracy improved from 0.78980 to 0.79000, saving model to model.keras\n",
      "351/351 - 2s - 5ms/step - accuracy: 0.7812 - loss: 0.7405 - val_accuracy: 0.7900 - val_loss: 0.7520\n",
      "Epoch 41/100\n",
      "\n",
      "Epoch 41: val_accuracy improved from 0.79000 to 0.79220, saving model to model.keras\n",
      "351/351 - 22s - 63ms/step - accuracy: 0.7537 - loss: 0.8477 - val_accuracy: 0.7922 - val_loss: 0.7397\n",
      "Epoch 42/100\n",
      "\n",
      "Epoch 42: val_accuracy did not improve from 0.79220\n",
      "351/351 - 22s - 63ms/step - accuracy: 0.7388 - loss: 0.8831 - val_accuracy: 0.7814 - val_loss: 0.7933\n",
      "Epoch 43/100\n",
      "\n",
      "Epoch 43: val_accuracy did not improve from 0.79220\n",
      "351/351 - 22s - 62ms/step - accuracy: 0.7506 - loss: 0.8524 - val_accuracy: 0.7800 - val_loss: 0.7842\n",
      "Epoch 44/100\n",
      "\n",
      "Epoch 44: val_accuracy did not improve from 0.79220\n",
      "351/351 - 22s - 63ms/step - accuracy: 0.7453 - loss: 0.8787 - val_accuracy: 0.7922 - val_loss: 0.7583\n",
      "Epoch 45/100\n",
      "\n",
      "Epoch 45: val_accuracy did not improve from 0.79220\n",
      "351/351 - 2s - 5ms/step - accuracy: 0.7083 - loss: 0.8432 - val_accuracy: 0.7922 - val_loss: 0.7554\n",
      "Epoch 46/100\n",
      "\n",
      "Epoch 46: val_accuracy improved from 0.79220 to 0.80380, saving model to model.keras\n",
      "351/351 - 22s - 63ms/step - accuracy: 0.7513 - loss: 0.8490 - val_accuracy: 0.8038 - val_loss: 0.7042\n",
      "Epoch 47/100\n",
      "\n",
      "Epoch 47: val_accuracy did not improve from 0.80380\n",
      "351/351 - 22s - 63ms/step - accuracy: 0.7579 - loss: 0.8399 - val_accuracy: 0.7860 - val_loss: 0.7759\n",
      "Epoch 48/100\n",
      "\n",
      "Epoch 48: val_accuracy did not improve from 0.80380\n",
      "351/351 - 22s - 63ms/step - accuracy: 0.7571 - loss: 0.8496 - val_accuracy: 0.7854 - val_loss: 0.8044\n",
      "Epoch 49/100\n",
      "\n",
      "Epoch 49: val_accuracy did not improve from 0.80380\n",
      "351/351 - 22s - 62ms/step - accuracy: 0.7610 - loss: 0.8502 - val_accuracy: 0.7838 - val_loss: 0.7932\n",
      "Epoch 50/100\n",
      "\n",
      "Epoch 50: val_accuracy did not improve from 0.80380\n",
      "351/351 - 2s - 5ms/step - accuracy: 0.7083 - loss: 0.8429 - val_accuracy: 0.7884 - val_loss: 0.7812\n",
      "Epoch 51/100\n",
      "\n",
      "Epoch 51: val_accuracy improved from 0.80380 to 0.81120, saving model to model.keras\n",
      "351/351 - 22s - 63ms/step - accuracy: 0.7644 - loss: 0.8356 - val_accuracy: 0.8112 - val_loss: 0.7072\n",
      "Epoch 52/100\n",
      "\n",
      "Epoch 52: val_accuracy did not improve from 0.81120\n",
      "351/351 - 22s - 62ms/step - accuracy: 0.7634 - loss: 0.8331 - val_accuracy: 0.8040 - val_loss: 0.7456\n",
      "Epoch 53/100\n",
      "\n",
      "Epoch 53: val_accuracy did not improve from 0.81120\n",
      "351/351 - 22s - 63ms/step - accuracy: 0.7657 - loss: 0.8376 - val_accuracy: 0.7642 - val_loss: 0.8683\n",
      "Epoch 54/100\n",
      "\n",
      "Epoch 54: val_accuracy did not improve from 0.81120\n",
      "351/351 - 22s - 62ms/step - accuracy: 0.7614 - loss: 0.8480 - val_accuracy: 0.7892 - val_loss: 0.7935\n",
      "Epoch 55/100\n",
      "\n",
      "Epoch 55: val_accuracy did not improve from 0.81120\n",
      "351/351 - 2s - 5ms/step - accuracy: 0.7917 - loss: 0.8052 - val_accuracy: 0.7872 - val_loss: 0.7984\n",
      "Epoch 56/100\n",
      "\n",
      "Epoch 56: val_accuracy improved from 0.81120 to 0.81420, saving model to model.keras\n",
      "351/351 - 22s - 62ms/step - accuracy: 0.7668 - loss: 0.8348 - val_accuracy: 0.8142 - val_loss: 0.7039\n",
      "Epoch 57/100\n",
      "\n",
      "Epoch 57: val_accuracy did not improve from 0.81420\n",
      "351/351 - 22s - 62ms/step - accuracy: 0.7674 - loss: 0.8301 - val_accuracy: 0.7912 - val_loss: 0.7830\n",
      "Epoch 58/100\n",
      "\n",
      "Epoch 58: val_accuracy did not improve from 0.81420\n",
      "351/351 - 22s - 63ms/step - accuracy: 0.7719 - loss: 0.8129 - val_accuracy: 0.8054 - val_loss: 0.7569\n",
      "Epoch 59/100\n",
      "\n",
      "Epoch 59: val_accuracy did not improve from 0.81420\n",
      "351/351 - 22s - 62ms/step - accuracy: 0.7723 - loss: 0.8165 - val_accuracy: 0.8066 - val_loss: 0.7333\n",
      "Epoch 60/100\n",
      "\n",
      "Epoch 60: val_accuracy did not improve from 0.81420\n",
      "351/351 - 2s - 5ms/step - accuracy: 0.7812 - loss: 0.7348 - val_accuracy: 0.8096 - val_loss: 0.7160\n",
      "Epoch 61/100\n",
      "\n",
      "Epoch 61: val_accuracy did not improve from 0.81420\n",
      "351/351 - 22s - 62ms/step - accuracy: 0.7744 - loss: 0.8114 - val_accuracy: 0.7876 - val_loss: 0.8009\n",
      "Epoch 62/100\n",
      "\n",
      "Epoch 62: val_accuracy did not improve from 0.81420\n",
      "351/351 - 22s - 62ms/step - accuracy: 0.7744 - loss: 0.8150 - val_accuracy: 0.8094 - val_loss: 0.7324\n",
      "Epoch 63/100\n",
      "\n",
      "Epoch 63: val_accuracy improved from 0.81420 to 0.83200, saving model to model.keras\n",
      "351/351 - 22s - 63ms/step - accuracy: 0.7735 - loss: 0.8221 - val_accuracy: 0.8320 - val_loss: 0.6555\n",
      "Epoch 64/100\n",
      "\n",
      "Epoch 64: val_accuracy did not improve from 0.83200\n",
      "351/351 - 22s - 63ms/step - accuracy: 0.7784 - loss: 0.8161 - val_accuracy: 0.8032 - val_loss: 0.7628\n",
      "Epoch 65/100\n",
      "\n",
      "Epoch 65: val_accuracy did not improve from 0.83200\n",
      "351/351 - 2s - 5ms/step - accuracy: 0.8438 - loss: 0.6763 - val_accuracy: 0.8082 - val_loss: 0.7543\n",
      "Epoch 66/100\n",
      "\n",
      "Epoch 66: val_accuracy did not improve from 0.83200\n",
      "351/351 - 22s - 62ms/step - accuracy: 0.7768 - loss: 0.8141 - val_accuracy: 0.8136 - val_loss: 0.7274\n",
      "Epoch 67/100\n",
      "\n",
      "Epoch 67: val_accuracy did not improve from 0.83200\n",
      "351/351 - 22s - 62ms/step - accuracy: 0.7774 - loss: 0.8021 - val_accuracy: 0.7836 - val_loss: 0.8281\n",
      "Epoch 68/100\n",
      "\n",
      "Epoch 68: val_accuracy did not improve from 0.83200\n",
      "351/351 - 22s - 63ms/step - accuracy: 0.7792 - loss: 0.8054 - val_accuracy: 0.8076 - val_loss: 0.7410\n",
      "Epoch 69/100\n",
      "\n",
      "Epoch 69: val_accuracy did not improve from 0.83200\n",
      "351/351 - 22s - 62ms/step - accuracy: 0.7736 - loss: 0.8211 - val_accuracy: 0.8236 - val_loss: 0.6993\n",
      "Epoch 70/100\n",
      "\n",
      "Epoch 70: val_accuracy did not improve from 0.83200\n",
      "351/351 - 2s - 5ms/step - accuracy: 0.8125 - loss: 0.8431 - val_accuracy: 0.8210 - val_loss: 0.7027\n",
      "Epoch 71/100\n",
      "\n",
      "Epoch 71: val_accuracy did not improve from 0.83200\n",
      "351/351 - 22s - 63ms/step - accuracy: 0.7779 - loss: 0.8137 - val_accuracy: 0.8220 - val_loss: 0.6887\n",
      "Epoch 72/100\n",
      "\n",
      "Epoch 72: val_accuracy did not improve from 0.83200\n",
      "351/351 - 22s - 62ms/step - accuracy: 0.7871 - loss: 0.7999 - val_accuracy: 0.8186 - val_loss: 0.7012\n",
      "Epoch 73/100\n",
      "\n",
      "Epoch 73: val_accuracy did not improve from 0.83200\n",
      "351/351 - 22s - 63ms/step - accuracy: 0.7779 - loss: 0.8080 - val_accuracy: 0.8036 - val_loss: 0.7766\n",
      "Epoch 74/100\n",
      "\n",
      "Epoch 74: val_accuracy did not improve from 0.83200\n",
      "351/351 - 22s - 62ms/step - accuracy: 0.7795 - loss: 0.8152 - val_accuracy: 0.8186 - val_loss: 0.7121\n",
      "Epoch 75/100\n",
      "\n",
      "Epoch 75: val_accuracy did not improve from 0.83200\n",
      "351/351 - 2s - 5ms/step - accuracy: 0.8021 - loss: 0.8717 - val_accuracy: 0.8142 - val_loss: 0.7311\n",
      "Epoch 76/100\n",
      "\n",
      "Epoch 76: val_accuracy improved from 0.83200 to 0.83560, saving model to model.keras\n",
      "351/351 - 22s - 62ms/step - accuracy: 0.7874 - loss: 0.7994 - val_accuracy: 0.8356 - val_loss: 0.6683\n",
      "Epoch 77/100\n",
      "\n",
      "Epoch 77: val_accuracy did not improve from 0.83560\n",
      "351/351 - 22s - 64ms/step - accuracy: 0.7887 - loss: 0.7968 - val_accuracy: 0.8192 - val_loss: 0.7195\n",
      "Epoch 78/100\n",
      "\n",
      "Epoch 78: val_accuracy did not improve from 0.83560\n",
      "351/351 - 22s - 63ms/step - accuracy: 0.7824 - loss: 0.8080 - val_accuracy: 0.8012 - val_loss: 0.7658\n",
      "Epoch 79/100\n",
      "\n",
      "Epoch 79: val_accuracy improved from 0.83560 to 0.84380, saving model to model.keras\n",
      "351/351 - 22s - 63ms/step - accuracy: 0.7733 - loss: 0.8156 - val_accuracy: 0.8438 - val_loss: 0.6522\n",
      "Epoch 80/100\n",
      "\n",
      "Epoch 80: val_accuracy did not improve from 0.84380\n",
      "351/351 - 2s - 5ms/step - accuracy: 0.8125 - loss: 0.7485 - val_accuracy: 0.8406 - val_loss: 0.6529\n",
      "Epoch 81/100\n",
      "\n",
      "Epoch 81: val_accuracy did not improve from 0.84380\n",
      "351/351 - 22s - 63ms/step - accuracy: 0.7822 - loss: 0.7931 - val_accuracy: 0.8290 - val_loss: 0.6967\n",
      "Epoch 82/100\n",
      "\n",
      "Epoch 82: val_accuracy did not improve from 0.84380\n",
      "351/351 - 22s - 63ms/step - accuracy: 0.7917 - loss: 0.7921 - val_accuracy: 0.8032 - val_loss: 0.7662\n",
      "Epoch 83/100\n",
      "\n",
      "Epoch 83: val_accuracy did not improve from 0.84380\n",
      "351/351 - 22s - 63ms/step - accuracy: 0.7872 - loss: 0.7874 - val_accuracy: 0.8318 - val_loss: 0.6612\n",
      "Epoch 84/100\n",
      "\n",
      "Epoch 84: val_accuracy did not improve from 0.84380\n",
      "351/351 - 22s - 63ms/step - accuracy: 0.7902 - loss: 0.7967 - val_accuracy: 0.8146 - val_loss: 0.7504\n",
      "Epoch 85/100\n",
      "\n",
      "Epoch 85: val_accuracy did not improve from 0.84380\n",
      "351/351 - 2s - 5ms/step - accuracy: 0.8125 - loss: 0.7893 - val_accuracy: 0.8112 - val_loss: 0.7530\n",
      "Epoch 86/100\n",
      "\n",
      "Epoch 86: val_accuracy did not improve from 0.84380\n",
      "351/351 - 22s - 62ms/step - accuracy: 0.7868 - loss: 0.7896 - val_accuracy: 0.8352 - val_loss: 0.6875\n",
      "Epoch 87/100\n",
      "\n",
      "Epoch 87: val_accuracy did not improve from 0.84380\n",
      "351/351 - 22s - 63ms/step - accuracy: 0.7797 - loss: 0.7914 - val_accuracy: 0.8080 - val_loss: 0.7627\n",
      "Epoch 88/100\n",
      "\n",
      "Epoch 88: val_accuracy did not improve from 0.84380\n",
      "351/351 - 22s - 63ms/step - accuracy: 0.7869 - loss: 0.7949 - val_accuracy: 0.8036 - val_loss: 0.7756\n",
      "Epoch 89/100\n",
      "\n",
      "Epoch 89: val_accuracy did not improve from 0.84380\n",
      "351/351 - 22s - 62ms/step - accuracy: 0.7947 - loss: 0.7773 - val_accuracy: 0.8400 - val_loss: 0.6546\n",
      "Epoch 90/100\n",
      "\n",
      "Epoch 90: val_accuracy did not improve from 0.84380\n",
      "351/351 - 2s - 5ms/step - accuracy: 0.7396 - loss: 0.9014 - val_accuracy: 0.8430 - val_loss: 0.6545\n",
      "Epoch 91/100\n",
      "\n",
      "Epoch 91: val_accuracy did not improve from 0.84380\n",
      "351/351 - 22s - 62ms/step - accuracy: 0.7901 - loss: 0.7849 - val_accuracy: 0.8434 - val_loss: 0.6554\n",
      "Epoch 92/100\n",
      "\n",
      "Epoch 92: val_accuracy did not improve from 0.84380\n",
      "351/351 - 22s - 62ms/step - accuracy: 0.7927 - loss: 0.7862 - val_accuracy: 0.8252 - val_loss: 0.6909\n",
      "Epoch 93/100\n",
      "\n",
      "Epoch 93: val_accuracy did not improve from 0.84380\n",
      "351/351 - 22s - 62ms/step - accuracy: 0.7860 - loss: 0.7932 - val_accuracy: 0.8226 - val_loss: 0.7076\n",
      "Epoch 94/100\n",
      "\n",
      "Epoch 94: val_accuracy did not improve from 0.84380\n",
      "351/351 - 22s - 62ms/step - accuracy: 0.7915 - loss: 0.7929 - val_accuracy: 0.8100 - val_loss: 0.7601\n",
      "Epoch 95/100\n",
      "\n",
      "Epoch 95: val_accuracy did not improve from 0.84380\n",
      "351/351 - 2s - 5ms/step - accuracy: 0.8229 - loss: 0.6014 - val_accuracy: 0.8154 - val_loss: 0.7424\n",
      "Epoch 96/100\n",
      "\n",
      "Epoch 96: val_accuracy did not improve from 0.84380\n",
      "351/351 - 22s - 62ms/step - accuracy: 0.7866 - loss: 0.7974 - val_accuracy: 0.8410 - val_loss: 0.6603\n",
      "Epoch 97/100\n",
      "\n",
      "Epoch 97: val_accuracy did not improve from 0.84380\n",
      "351/351 - 22s - 63ms/step - accuracy: 0.7942 - loss: 0.7944 - val_accuracy: 0.8152 - val_loss: 0.7351\n",
      "Epoch 98/100\n",
      "\n",
      "Epoch 98: val_accuracy did not improve from 0.84380\n",
      "351/351 - 22s - 63ms/step - accuracy: 0.7923 - loss: 0.7909 - val_accuracy: 0.8232 - val_loss: 0.7269\n",
      "Epoch 99/100\n",
      "\n",
      "Epoch 99: val_accuracy did not improve from 0.84380\n",
      "351/351 - 22s - 63ms/step - accuracy: 0.7935 - loss: 0.7762 - val_accuracy: 0.8074 - val_loss: 0.7633\n",
      "Epoch 100/100\n",
      "\n",
      "Epoch 100: val_accuracy did not improve from 0.84380\n",
      "351/351 - 2s - 5ms/step - accuracy: 0.7500 - loss: 0.9160 - val_accuracy: 0.8088 - val_loss: 0.7605\n"
     ]
    }
   ],
   "source": [
    "hist = model.fit(\n",
    "    datagen.flow(x_train, y_train, batch_size=32), \n",
    "    callbacks=[checkpoint], \n",
    "    steps_per_epoch=x_train.shape[0]//128, \n",
    "    epochs=100, \n",
    "    verbose=2, \n",
    "    validation_data=(x_valid, y_valid)\n",
    "    )"
   ]
  },
  {
   "cell_type": "code",
   "execution_count": 37,
   "metadata": {},
   "outputs": [
    {
     "data": {
      "image/png": "[encoded data removed]",
      "text/plain": [
       "<Figure size 640x480 with 1 Axes>"
      ]
     },
     "metadata": {},
     "output_type": "display_data"
    }
   ],
   "source": [
    "plt.plot(hist.history['accuracy'], label='Train')\n",
    "plt.plot(hist.history['val_accuracy'], label='Validation')\n",
    "plt.legend()\n",
    "plt.show()"
   ]
  },
  {
   "cell_type": "code",
   "execution_count": 38,
   "metadata": {},
   "outputs": [],
   "source": [
    "model.load_weights('model.keras')"
   ]
  },
  {
   "cell_type": "code",
   "execution_count": 39,
   "metadata": {},
   "outputs": [
    {
     "name": "stdout",
     "output_type": "stream",
     "text": [
      "\u001b[1m313/313\u001b[0m \u001b[32m━━━━━━━━━━━━━━━━━━━━\u001b[0m\u001b[37m\u001b[0m \u001b[1m4s\u001b[0m 13ms/step - accuracy: 0.8188 - loss: 0.7057\n"
     ]
    },
    {
     "data": {
      "text/plain": [
       "[0.7059494853019714, 0.8205000162124634]"
      ]
     },
     "execution_count": 39,
     "metadata": {},
     "output_type": "execute_result"
    }
   ],
   "source": [
    "model.evaluate(x_test, y_test)"
   ]
  }
 ],
 "metadata": {
  "kernelspec": {
   "display_name": "tf_gpu_env",
   "language": "python",
   "name": "python3"
  },
  "language_info": {
   "codemirror_mode": {
    "name": "ipython",
    "version": 3
   },
   "file_extension": ".py",
   "mimetype": "text/x-python",
   "name": "python",
   "nbconvert_exporter": "python",
   "pygments_lexer": "ipython3",
   "version": "3.12.6"
  }
 },
 "nbformat": 4,
 "nbformat_minor": 2
}
