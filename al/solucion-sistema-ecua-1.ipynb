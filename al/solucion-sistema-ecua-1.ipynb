{
 "cells": [
  {
   "cell_type": "markdown",
   "metadata": {},
   "source": [
    "## **Aplicación de la inversa de una matriz para resolver un sistema de ecuaciones lineales**"
   ]
  },
  {
   "cell_type": "markdown",
   "metadata": {},
   "source": [
    "3x + y = 1\n",
    "\n",
    "2x + y = 1"
   ]
  },
  {
   "cell_type": "code",
   "execution_count": 1,
   "metadata": {},
   "outputs": [],
   "source": [
    "import numpy as np\n",
    "import matplotlib.pyplot as plt\n",
    "\n",
    "np.set_printoptions(suppress=True)"
   ]
  },
  {
   "cell_type": "code",
   "execution_count": 3,
   "metadata": {},
   "outputs": [],
   "source": [
    "A = np.array([[3,1],[2,1]])"
   ]
  },
  {
   "cell_type": "code",
   "execution_count": 4,
   "metadata": {},
   "outputs": [],
   "source": [
    "B = np.array([[1],[1]])"
   ]
  },
  {
   "cell_type": "code",
   "execution_count": 7,
   "metadata": {},
   "outputs": [],
   "source": [
    "A_inv = np.linalg.inv(A)"
   ]
  },
  {
   "cell_type": "code",
   "execution_count": 9,
   "metadata": {},
   "outputs": [
    {
     "name": "stdout",
     "output_type": "stream",
     "text": [
      "[[1.]\n",
      " [1.]]\n"
     ]
    }
   ],
   "source": [
    "x = A_inv.dot(B)\n",
    "print(A.dot(x))"
   ]
  },
  {
   "cell_type": "code",
   "execution_count": 2,
   "metadata": {},
   "outputs": [
    {
     "data": {
      "text/plain": [
       "<matplotlib.lines.Line2D at 0x230cdc73770>"
      ]
     },
     "execution_count": 2,
     "metadata": {},
     "output_type": "execute_result"
    },
    {
     "data": {
      "image/png": "[encoded data removed]",
      "text/plain": [
       "<Figure size 640x480 with 1 Axes>"
      ]
     },
     "metadata": {},
     "output_type": "display_data"
    }
   ],
   "source": [
    "x = np.arange(-6, 6)\n",
    "y_1 = 7*x+2\n",
    "y_2 = 3*x+5\n",
    "\n",
    "plt.figure()\n",
    "plt.plot(x, y_1)\n",
    "plt.plot(x, y_2)\n",
    "\n",
    "plt.xlim(-8, 8)\n",
    "plt.ylim(-8, 8)\n",
    "plt.axvline(x=0, color='grey')\n",
    "plt.axhline(y=0, color='grey')"
   ]
  },
  {
   "cell_type": "markdown",
   "metadata": {},
   "source": [
    "7x - y = -2\n",
    "\n",
    "3x - y = -5"
   ]
  },
  {
   "cell_type": "code",
   "execution_count": 3,
   "metadata": {},
   "outputs": [
    {
     "name": "stdout",
     "output_type": "stream",
     "text": [
      "[[-4.25]\n",
      " [ 9.25]]\n"
     ]
    }
   ],
   "source": [
    "A_1 = np.array([[-7, -3], [1, 1]])\n",
    "B_1 = np.array([[2], [5]])\n",
    "\n",
    "A_1_inv = np.linalg.inv(A_1)\n",
    "x = A_1_inv.dot(B_1)\n",
    "print(x)"
   ]
  },
  {
   "cell_type": "code",
   "execution_count": 6,
   "metadata": {},
   "outputs": [
    {
     "name": "stdout",
     "output_type": "stream",
     "text": [
      "[[4 6]\n",
      " [8 9]]\n"
     ]
    }
   ],
   "source": [
    "escalar = 3\n",
    "vector = np.array([[1, 3],[5, 6]])\n",
    "print(escalar + vector)"
   ]
  }
 ],
 "metadata": {
  "kernelspec": {
   "display_name": "Python 3",
   "language": "python",
   "name": "python3"
  },
  "language_info": {
   "codemirror_mode": {
    "name": "ipython",
    "version": 3
   },
   "file_extension": ".py",
   "mimetype": "text/x-python",
   "name": "python",
   "nbconvert_exporter": "python",
   "pygments_lexer": "ipython3",
   "version": "3.12.6"
  }
 },
 "nbformat": 4,
 "nbformat_minor": 2
}
