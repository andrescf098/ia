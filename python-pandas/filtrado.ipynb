{
 "cells": [
  {
   "cell_type": "code",
   "execution_count": 1,
   "metadata": {},
   "outputs": [],
   "source": [
    "import pandas as pd\n",
    "\n",
    "path = './files/online_retail.csv'\n",
    "df = pd.read_csv(path)"
   ]
  },
  {
   "cell_type": "code",
   "execution_count": 2,
   "metadata": {},
   "outputs": [
    {
     "name": "stdout",
     "output_type": "stream",
     "text": [
      "  InvoiceNo StockCode                          Description  Quantity  \\\n",
      "0    536365    85123A   WHITE HANGING HEART T-LIGHT HOLDER         6   \n",
      "1    536365     71053                  WHITE METAL LANTERN         6   \n",
      "2    536365    84406B       CREAM CUPID HEARTS COAT HANGER         8   \n",
      "3    536365    84029G  KNITTED UNION FLAG HOT WATER BOTTLE         6   \n",
      "4    536365    84029E       RED WOOLLY HOTTIE WHITE HEART.         6   \n",
      "\n",
      "          InvoiceDate  UnitPrice  CustomerID         Country  TotalPrice  \n",
      "0 2010-12-01 08:26:00       2.55     17850.0  United Kingdom       15.30  \n",
      "1 2010-12-01 08:26:00       3.39     17850.0  United Kingdom       20.34  \n",
      "2 2010-12-01 08:26:00       2.75     17850.0  United Kingdom       22.00  \n",
      "3 2010-12-01 08:26:00       3.39     17850.0  United Kingdom       20.34  \n",
      "4 2010-12-01 08:26:00       3.39     17850.0  United Kingdom       20.34  \n"
     ]
    }
   ],
   "source": [
    "df['InvoiceDate'] = pd.to_datetime(df['InvoiceDate'])\n",
    "df.dropna(subset=['CustomerID', 'InvoiceDate'], inplace=True)\n",
    "df['TotalPrice'] = df['Quantity'] * df['UnitPrice']\n",
    "print(df.head())"
   ]
  },
  {
   "cell_type": "markdown",
   "metadata": {},
   "source": [
    "#### Filtrar ventas en el Reino Unido"
   ]
  },
  {
   "cell_type": "code",
   "execution_count": 3,
   "metadata": {},
   "outputs": [
    {
     "name": "stdout",
     "output_type": "stream",
     "text": [
      "  InvoiceNo StockCode                          Description  Quantity  \\\n",
      "0    536365    85123A   WHITE HANGING HEART T-LIGHT HOLDER         6   \n",
      "1    536365     71053                  WHITE METAL LANTERN         6   \n",
      "2    536365    84406B       CREAM CUPID HEARTS COAT HANGER         8   \n",
      "3    536365    84029G  KNITTED UNION FLAG HOT WATER BOTTLE         6   \n",
      "4    536365    84029E       RED WOOLLY HOTTIE WHITE HEART.         6   \n",
      "\n",
      "          InvoiceDate  UnitPrice  CustomerID         Country  TotalPrice  \n",
      "0 2010-12-01 08:26:00       2.55     17850.0  United Kingdom       15.30  \n",
      "1 2010-12-01 08:26:00       3.39     17850.0  United Kingdom       20.34  \n",
      "2 2010-12-01 08:26:00       2.75     17850.0  United Kingdom       22.00  \n",
      "3 2010-12-01 08:26:00       3.39     17850.0  United Kingdom       20.34  \n",
      "4 2010-12-01 08:26:00       3.39     17850.0  United Kingdom       20.34  \n"
     ]
    }
   ],
   "source": [
    "uk_sales = df[df['Country'] == 'United Kingdom']\n",
    "print(uk_sales)"
   ]
  },
  {
   "cell_type": "code",
   "execution_count": 5,
   "metadata": {},
   "outputs": [
    {
     "name": "stdout",
     "output_type": "stream",
     "text": [
      "       InvoiceNo StockCode                      Description  Quantity  \\\n",
      "9         536367     84879    ASSORTED COLOUR BIRD ORNAMENT        32   \n",
      "26        536370     22728        ALARM CLOCK BAKELIKE PINK        24   \n",
      "27        536370     22727        ALARM CLOCK BAKELIKE RED         24   \n",
      "28        536370     22726       ALARM CLOCK BAKELIKE GREEN        12   \n",
      "29        536370     21724  PANDA AND BUNNIES STICKER SHEET        12   \n",
      "...          ...       ...                              ...       ...   \n",
      "541894    581587     22631         CIRCUS PARADE LUNCH BOX         12   \n",
      "541895    581587     22556   PLASTERS IN TIN CIRCUS PARADE         12   \n",
      "541896    581587     22555        PLASTERS IN TIN STRONGMAN        12   \n",
      "541902    581587     22629              SPACEBOY LUNCH BOX         12   \n",
      "541904    581587     22613      PACK OF 20 SPACEBOY NAPKINS        12   \n",
      "\n",
      "               InvoiceDate  UnitPrice  CustomerID         Country  TotalPrice  \n",
      "9      2010-12-01 08:34:00       1.69     13047.0  United Kingdom       54.08  \n",
      "26     2010-12-01 08:45:00       3.75     12583.0          France       90.00  \n",
      "27     2010-12-01 08:45:00       3.75     12583.0          France       90.00  \n",
      "28     2010-12-01 08:45:00       3.75     12583.0          France       45.00  \n",
      "29     2010-12-01 08:45:00       0.85     12583.0          France       10.20  \n",
      "...                    ...        ...         ...             ...         ...  \n",
      "541894 2011-12-09 12:50:00       1.95     12680.0          France       23.40  \n",
      "541895 2011-12-09 12:50:00       1.65     12680.0          France       19.80  \n",
      "541896 2011-12-09 12:50:00       1.65     12680.0          France       19.80  \n",
      "541902 2011-12-09 12:50:00       1.95     12680.0          France       23.40  \n",
      "541904 2011-12-09 12:50:00       0.85     12680.0          France       10.20  \n",
      "\n",
      "[126312 rows x 9 columns]\n"
     ]
    }
   ],
   "source": [
    "high_quantity_sales = df[df['Quantity']>10]\n",
    "print(high_quantity_sales)"
   ]
  },
  {
   "cell_type": "code",
   "execution_count": 17,
   "metadata": {},
   "outputs": [
    {
     "name": "stdout",
     "output_type": "stream",
     "text": [
      "       InvoiceNo StockCode                        Description  Quantity  \\\n",
      "9         536367     84879      ASSORTED COLOUR BIRD ORNAMENT        32   \n",
      "46        536371     22086    PAPER CHAIN KIT 50'S CHRISTMAS         80   \n",
      "65        536374     21258         VICTORIAN SEWING BOX LARGE        32   \n",
      "82        536376     22114  HOT WATER BOTTLE TEA AND SYMPATHY        48   \n",
      "83        536376     21733   RED HANGING HEART T-LIGHT HOLDER        64   \n",
      "...          ...       ...                                ...       ...   \n",
      "541886    581585     22398         MAGNETS PACK OF 4 SWALLOWS        12   \n",
      "541888    581585     23145     ZINC T-LIGHT HOLDER STAR LARGE        12   \n",
      "541889    581585     22466     FAIRY TALE COTTAGE NIGHT LIGHT        12   \n",
      "541891    581586     23275   SET OF 3 HANGING OWLS OLLIE BEAK        24   \n",
      "541892    581586     21217      RED RETROSPOT ROUND CAKE TINS        24   \n",
      "\n",
      "               InvoiceDate  UnitPrice  CustomerID         Country  TotalPrice  \n",
      "9      2010-12-01 08:34:00       1.69     13047.0  United Kingdom       54.08  \n",
      "46     2010-12-01 09:00:00       2.55     13748.0  United Kingdom      204.00  \n",
      "65     2010-12-01 09:09:00      10.95     15100.0  United Kingdom      350.40  \n",
      "82     2010-12-01 09:32:00       3.45     15291.0  United Kingdom      165.60  \n",
      "83     2010-12-01 09:32:00       2.55     15291.0  United Kingdom      163.20  \n",
      "...                    ...        ...         ...             ...         ...  \n",
      "541886 2011-12-09 12:31:00       0.39     15804.0  United Kingdom        4.68  \n",
      "541888 2011-12-09 12:31:00       0.95     15804.0  United Kingdom       11.40  \n",
      "541889 2011-12-09 12:31:00       1.95     15804.0  United Kingdom       23.40  \n",
      "541891 2011-12-09 12:49:00       1.25     13113.0  United Kingdom       30.00  \n",
      "541892 2011-12-09 12:49:00       8.95     13113.0  United Kingdom      214.80  \n",
      "\n",
      "[104109 rows x 9 columns]\n"
     ]
    }
   ],
   "source": [
    "uk_high_quantity = df[(df['Country'] == 'United Kingdom') & ((df['Quantity']>10))]\n",
    "print(uk_high_quantity)"
   ]
  },
  {
   "cell_type": "code",
   "execution_count": 14,
   "metadata": {},
   "outputs": [
    {
     "name": "stdout",
     "output_type": "stream",
     "text": [
      "       InvoiceNo StockCode                         Description  Quantity  \\\n",
      "42508     540001     22151           PLACE SETTING WHITE HEART        48   \n",
      "42511     540001     22644      CERAMIC CHERRY CAKE MONEY BANK        60   \n",
      "42512     540001     70006            LOVE HEART POCKET WARMER        48   \n",
      "42517     540002     21790                  VINTAGE SNAP CARDS       144   \n",
      "42540     540004     84946     ANTIQUE SILVER TEA GLASS ETCHED        72   \n",
      "...          ...       ...                                 ...       ...   \n",
      "541746    581571     23167      SMALL CERAMIC TOP STORAGE JAR         96   \n",
      "541747    581571     21314       SMALL GLASS HEART TRINKET POT        48   \n",
      "541751    581572     23328  SET 6 SCHOOL MILK BOTTLES IN CRATE        48   \n",
      "541867    581584     20832    RED FLOCK LOVE HEART PHOTO FRAME        72   \n",
      "541868    581584     85038     6 CHOCOLATE LOVE HEART T-LIGHTS        48   \n",
      "\n",
      "               InvoiceDate  UnitPrice  CustomerID         Country  TotalPrice  \n",
      "42508  2011-01-04 10:22:00       0.42     18097.0  United Kingdom       20.16  \n",
      "42511  2011-01-04 10:22:00       1.45     18097.0  United Kingdom       87.00  \n",
      "42512  2011-01-04 10:22:00       0.42     18097.0  United Kingdom       20.16  \n",
      "42517  2011-01-04 10:23:00       0.72     16656.0  United Kingdom      103.68  \n",
      "42540  2011-01-04 10:37:00       1.06     13094.0  United Kingdom       76.32  \n",
      "...                    ...        ...         ...             ...         ...  \n",
      "541746 2011-12-09 12:00:00       0.69     15311.0  United Kingdom       66.24  \n",
      "541747 2011-12-09 12:00:00       1.85     15311.0  United Kingdom       88.80  \n",
      "541751 2011-12-09 12:08:00       3.39     16705.0  United Kingdom      162.72  \n",
      "541867 2011-12-09 12:25:00       0.72     13777.0  United Kingdom       51.84  \n",
      "541868 2011-12-09 12:25:00       1.85     13777.0  United Kingdom       88.80  \n",
      "\n",
      "[13274 rows x 9 columns]\n"
     ]
    }
   ],
   "source": [
    "uk_sales_2010 = uk_high_quantity[uk_high_quantity['InvoiceDate'].dt.year == 2010]\n",
    "print(uk_sales_2010)"
   ]
  },
  {
   "cell_type": "code",
   "execution_count": 23,
   "metadata": {},
   "outputs": [
    {
     "name": "stdout",
     "output_type": "stream",
     "text": [
      "      InvoiceNo StockCode                         Description  Quantity  \\\n",
      "9        536367     84879       ASSORTED COLOUR BIRD ORNAMENT        32   \n",
      "46       536371     22086     PAPER CHAIN KIT 50'S CHRISTMAS         80   \n",
      "65       536374     21258          VICTORIAN SEWING BOX LARGE        32   \n",
      "82       536376     22114   HOT WATER BOTTLE TEA AND SYMPATHY        48   \n",
      "83       536376     21733    RED HANGING HEART T-LIGHT HOLDER        64   \n",
      "...         ...       ...                                 ...       ...   \n",
      "42356    539985     82483  WOOD 2 DRAWER CABINET WHITE FINISH        22   \n",
      "42357    539985     22312          OFFICE MUG WARMER POLKADOT        12   \n",
      "42359    539985     20966                SANDWICH BATH SPONGE        50   \n",
      "42421    539988         M                              Manual        18   \n",
      "42444    539988     22616          PACK OF 12 LONDON TISSUES         12   \n",
      "\n",
      "              InvoiceDate  UnitPrice  CustomerID         Country  TotalPrice  \n",
      "9     2010-12-01 08:34:00       1.69     13047.0  United Kingdom       54.08  \n",
      "46    2010-12-01 09:00:00       2.55     13748.0  United Kingdom      204.00  \n",
      "65    2010-12-01 09:09:00      10.95     15100.0  United Kingdom      350.40  \n",
      "82    2010-12-01 09:32:00       3.45     15291.0  United Kingdom      165.60  \n",
      "83    2010-12-01 09:32:00       2.55     15291.0  United Kingdom      163.20  \n",
      "...                   ...        ...         ...             ...         ...  \n",
      "42356 2010-12-23 15:16:00       4.95     15856.0  United Kingdom      108.90  \n",
      "42357 2010-12-23 15:16:00       2.95     15856.0  United Kingdom       35.40  \n",
      "42359 2010-12-23 15:16:00       1.25     15856.0  United Kingdom       62.50  \n",
      "42421 2010-12-23 16:06:00       0.20     18116.0  United Kingdom        3.60  \n",
      "42444 2010-12-23 16:06:00       0.29     18116.0  United Kingdom        3.48  \n",
      "\n",
      "[6444 rows x 9 columns]\n"
     ]
    }
   ],
   "source": [
    "uk_sales_2010_dec = uk_high_quantity[(uk_high_quantity['InvoiceDate'].dt.year == 2010) & (uk_high_quantity['InvoiceDate'].dt.month == 12)]\n",
    "print(uk_sales_2010_dec)"
   ]
  }
 ],
 "metadata": {
  "kernelspec": {
   "display_name": "Python 3",
   "language": "python",
   "name": "python3"
  },
  "language_info": {
   "codemirror_mode": {
    "name": "ipython",
    "version": 3
   },
   "file_extension": ".py",
   "mimetype": "text/x-python",
   "name": "python",
   "nbconvert_exporter": "python",
   "pygments_lexer": "ipython3",
   "version": "3.12.7"
  }
 },
 "nbformat": 4,
 "nbformat_minor": 2
}
