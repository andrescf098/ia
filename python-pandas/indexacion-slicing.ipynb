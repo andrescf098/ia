{
 "cells": [
  {
   "cell_type": "code",
   "execution_count": 3,
   "metadata": {},
   "outputs": [
    {
     "name": "stdout",
     "output_type": "stream",
     "text": [
      "[2 7]\n"
     ]
    }
   ],
   "source": [
    "import numpy as np\n",
    "\n",
    "array = np.array([[1, 2, 3, 4, 5], [6, 7, 8, 9, 10]])\n",
    "print(array[:, 1])"
   ]
  },
  {
   "cell_type": "code",
   "execution_count": 19,
   "metadata": {},
   "outputs": [
    {
     "name": "stdout",
     "output_type": "stream",
     "text": [
      "<class 'numpy.ndarray'>\n",
      "[1 2 4 5]\n"
     ]
    }
   ],
   "source": [
    "bool_index = array > 5\n",
    "print(type(bool_index))\n",
    "index = [0, 1, 3, 4]\n",
    "print(array[0, index])"
   ]
  },
  {
   "cell_type": "code",
   "execution_count": 18,
   "metadata": {},
   "outputs": [
    {
     "name": "stdout",
     "output_type": "stream",
     "text": [
      "[[9 0 1]\n",
      " [1 9 1]\n",
      " [8 2 3]]\n"
     ]
    }
   ],
   "source": [
    "array_1 = np.random.randint(0, 10, size=(3,3))\n",
    "print(array_1)"
   ]
  },
  {
   "cell_type": "code",
   "execution_count": 20,
   "metadata": {},
   "outputs": [
    {
     "name": "stdout",
     "output_type": "stream",
     "text": [
      "[[9 0]\n",
      " [1 9]]\n"
     ]
    }
   ],
   "source": [
    "print(array_1[:2, :2])"
   ]
  },
  {
   "cell_type": "code",
   "execution_count": 5,
   "metadata": {},
   "outputs": [
    {
     "name": "stdout",
     "output_type": "stream",
     "text": [
      "[[38 97 37 63]\n",
      " [78  0 97 72]\n",
      " [79 73 24  0]\n",
      " [54 37 21  6]]\n"
     ]
    }
   ],
   "source": [
    "array_2 = np.random.randint(0, 100, size=(4,4))\n",
    "print(array_2)"
   ]
  },
  {
   "cell_type": "code",
   "execution_count": 6,
   "metadata": {},
   "outputs": [
    {
     "name": "stdout",
     "output_type": "stream",
     "text": [
      "[201.51488791 +0.j         -68.06752494+16.63567252j\n",
      " -68.06752494-16.63567252j   2.62016197 +0.j        ]\n",
      "[[-0.57379647+0.j          0.62081224+0.26205831j  0.62081224-0.26205831j\n",
      "   0.39354024+0.j        ]\n",
      " [-0.572514  +0.j         -0.6826085 +0.j         -0.6826085 -0.j\n",
      "  -0.2157194 +0.j        ]\n",
      " [-0.49079513+0.j          0.0476159 -0.21625958j  0.0476159 +0.21625958j\n",
      "  -0.71759958+0.j        ]\n",
      " [-0.31953948+0.j         -0.09136979-0.15026418j -0.09136979+0.15026418j\n",
      "   0.53258057+0.j        ]]\n"
     ]
    }
   ],
   "source": [
    "autovalores, autovectores = np.linalg.eig(array_2)\n",
    "print(autovalores)\n",
    "print(autovectores)"
   ]
  }
 ],
 "metadata": {
  "kernelspec": {
   "display_name": "Python 3",
   "language": "python",
   "name": "python3"
  },
  "language_info": {
   "codemirror_mode": {
    "name": "ipython",
    "version": 3
   },
   "file_extension": ".py",
   "mimetype": "text/x-python",
   "name": "python",
   "nbconvert_exporter": "python",
   "pygments_lexer": "ipython3",
   "version": "3.12.7"
  }
 },
 "nbformat": 4,
 "nbformat_minor": 2
}
