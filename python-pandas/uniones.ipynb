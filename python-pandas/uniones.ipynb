{
 "cells": [
  {
   "cell_type": "code",
   "execution_count": 1,
   "metadata": {},
   "outputs": [
    {
     "name": "stdout",
     "output_type": "stream",
     "text": [
      "  key  value\n",
      "0   A      1\n",
      "1   B      2\n",
      "2   C      3\n",
      "3   D      4\n",
      "  key  value\n",
      "0   B      5\n",
      "1   D      6\n",
      "2   D      7\n",
      "3   E      8\n"
     ]
    }
   ],
   "source": [
    "import pandas as pd\n",
    "\n",
    "df_1 = pd.DataFrame({\n",
    "    \"key\": [\"A\", \"B\", \"C\", \"D\"],\n",
    "    \"value\": [1, 2, 3, 4]\n",
    "})\n",
    "df_2 = pd.DataFrame({\n",
    "    \"key\": [\"B\", \"D\", \"D\", \"E\"],\n",
    "    \"value\": [5, 6, 7, 8]\n",
    "})\n",
    "\n",
    "print(df_1)\n",
    "print(df_2)"
   ]
  },
  {
   "cell_type": "code",
   "execution_count": 2,
   "metadata": {},
   "outputs": [
    {
     "name": "stdout",
     "output_type": "stream",
     "text": [
      "  key  value_x  value_y\n",
      "0   B        2        5\n",
      "1   D        4        6\n",
      "2   D        4        7\n"
     ]
    }
   ],
   "source": [
    "ineer_marged = pd.merge(df_1, df_2, on=\"key\", how=\"inner\")\n",
    "print(ineer_marged)"
   ]
  },
  {
   "cell_type": "code",
   "execution_count": 3,
   "metadata": {},
   "outputs": [
    {
     "name": "stdout",
     "output_type": "stream",
     "text": [
      "  key  value_x  value_y\n",
      "0   A      1.0      NaN\n",
      "1   B      2.0      5.0\n",
      "2   C      3.0      NaN\n",
      "3   D      4.0      6.0\n",
      "4   D      4.0      7.0\n",
      "5   E      NaN      8.0\n"
     ]
    }
   ],
   "source": [
    "outer_merged = pd.merge(df_1, df_2, on=\"key\", how=\"outer\")\n",
    "print(outer_merged)"
   ]
  },
  {
   "cell_type": "code",
   "execution_count": 4,
   "metadata": {},
   "outputs": [
    {
     "name": "stdout",
     "output_type": "stream",
     "text": [
      "  key  value_x  value_y\n",
      "0   A        1      NaN\n",
      "1   B        2      5.0\n",
      "2   C        3      NaN\n",
      "3   D        4      6.0\n",
      "4   D        4      7.0\n"
     ]
    }
   ],
   "source": [
    "left_merged = pd.merge(df_1, df_2, on=\"key\", how=\"left\")\n",
    "print(left_merged)"
   ]
  },
  {
   "cell_type": "code",
   "execution_count": 5,
   "metadata": {},
   "outputs": [
    {
     "name": "stdout",
     "output_type": "stream",
     "text": [
      "  key  value_x  value_y\n",
      "0   B      2.0        5\n",
      "1   D      4.0        6\n",
      "2   D      4.0        7\n",
      "3   E      NaN        8\n"
     ]
    }
   ],
   "source": [
    "right_merged = pd.merge(df_1, df_2, on=\"key\", how=\"right\")\n",
    "print(right_merged)"
   ]
  }
 ],
 "metadata": {
  "kernelspec": {
   "display_name": "Python 3",
   "language": "python",
   "name": "python3"
  },
  "language_info": {
   "codemirror_mode": {
    "name": "ipython",
    "version": 3
   },
   "file_extension": ".py",
   "mimetype": "text/x-python",
   "name": "python",
   "nbconvert_exporter": "python",
   "pygments_lexer": "ipython3",
   "version": "3.12.7"
  }
 },
 "nbformat": 4,
 "nbformat_minor": 2
}
