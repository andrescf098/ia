{
 "cells": [
  {
   "cell_type": "code",
   "execution_count": 4,
   "metadata": {},
   "outputs": [
    {
     "name": "stdout",
     "output_type": "stream",
     "text": [
      "(array(['bueno', 'excelente', 'malo'], dtype='<U9'), array([4, 3, 3]))\n"
     ]
    }
   ],
   "source": [
    "import numpy as np\n",
    "\n",
    "survey_responses = np.array([\"bueno\", \"excelente\", \"malo\", \"bueno\", \"malo\", \"excelente\", \"bueno\", \"bueno\", \"malo\", \"excelente\"])\n",
    "print(np.unique(survey_responses))"
   ]
  },
  {
   "cell_type": "code",
   "execution_count": 5,
   "metadata": {},
   "outputs": [
    {
     "name": "stdout",
     "output_type": "stream",
     "text": [
      "['bueno' 'excelente' 'malo']\n",
      "[4 3 3]\n"
     ]
    }
   ],
   "source": [
    "unique_elements, counts = np.unique(survey_responses, return_counts=True)\n",
    "print(unique_elements)\n",
    "print(counts)"
   ]
  },
  {
   "cell_type": "code",
   "execution_count": 19,
   "metadata": {},
   "outputs": [
    {
     "name": "stdout",
     "output_type": "stream",
     "text": [
      "[9 6 7 3 7 6]\n",
      "True\n"
     ]
    }
   ],
   "source": [
    "array_2=np.random.randint(1, 11, size=(6))\n",
    "print(array_2)\n",
    "array_3 = array_2.copy()\n",
    "array_4 = array_2\n",
    "print(np.shares_memory(array_2, array_4))"
   ]
  }
 ],
 "metadata": {
  "kernelspec": {
   "display_name": "Python 3",
   "language": "python",
   "name": "python3"
  },
  "language_info": {
   "codemirror_mode": {
    "name": "ipython",
    "version": 3
   },
   "file_extension": ".py",
   "mimetype": "text/x-python",
   "name": "python",
   "nbconvert_exporter": "python",
   "pygments_lexer": "ipython3",
   "version": "3.12.7"
  }
 },
 "nbformat": 4,
 "nbformat_minor": 2
}
